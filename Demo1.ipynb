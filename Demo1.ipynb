{
 "cells": [
  {
   "cell_type": "code",
   "execution_count": 1,
   "metadata": {},
   "outputs": [],
   "source": [
    "# Welcome to a jupyter notebook\n",
    "# This tool has some really cool features\n",
    "# In this demo we will look at using code\n",
    "# Our langugage is python, don't worry if you aren't fluent, I am!"
   ]
  },
  {
   "cell_type": "code",
   "execution_count": 2,
   "metadata": {},
   "outputs": [],
   "source": [
    "# Demo number One: Say Hello\n",
    "# The first program you write in a language is required by law to be called 'hello world'\n",
    "# It does only one thing: print out 'hello world'\n",
    "# eg see wikipedia: https://en.wikipedia.org/wiki/%22Hello,_World!%22_program"
   ]
  },
  {
   "cell_type": "code",
   "execution_count": 3,
   "metadata": {},
   "outputs": [
    {
     "name": "stdout",
     "output_type": "stream",
     "text": [
      "hello world\n"
     ]
    }
   ],
   "source": [
    "print(\"hello world\")"
   ]
  },
  {
   "cell_type": "code",
   "execution_count": 4,
   "metadata": {},
   "outputs": [
    {
     "name": "stdout",
     "output_type": "stream",
     "text": [
      "hello world, my name is Pete\n"
     ]
    }
   ],
   "source": [
    "# Demo number two: Say Hello and state yourname\n",
    "print(\"hello world, my name is Pete\")"
   ]
  }
 ],
 "metadata": {
  "kernelspec": {
   "display_name": "conda_python3",
   "language": "python",
   "name": "conda_python3"
  },
  "language_info": {
   "codemirror_mode": {
    "name": "ipython",
    "version": 3
   },
   "file_extension": ".py",
   "mimetype": "text/x-python",
   "name": "python",
   "nbconvert_exporter": "python",
   "pygments_lexer": "ipython3",
   "version": "3.6.5"
  }
 },
 "nbformat": 4,
 "nbformat_minor": 2
}
